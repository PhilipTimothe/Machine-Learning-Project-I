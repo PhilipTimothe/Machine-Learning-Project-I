{
 "cells": [
  {
   "cell_type": "code",
   "execution_count": 1,
   "id": "c72736eb-c888-48bc-a14a-58d49c9896d5",
   "metadata": {},
   "outputs": [],
   "source": [
    "import pandas as pd\n",
    "import numpy as np\n",
    "import pickle\n",
    "import streamlit as st\n",
    "import seaborn as sns\n",
    "import matplotlib.pyplot as plt\n",
    "from sklearn import metrics\n",
    "from sklearn.preprocessing import LabelEncoder\n",
    "from sklearn.model_selection import train_test_split\n",
    "from sklearn.svm import SVR\n",
    "from sklearn.pipeline import Pipeline\n",
    "from sklearn.preprocessing import StandardScaler\n",
    "from sklearn.gaussian_process import GaussianProcessRegressor\n",
    "from sklearn.linear_model import LinearRegression\n",
    "from sklearn.tree import DecisionTreeRegressor\n",
    "from sklearn.neighbors import KNeighborsRegressor\n",
    "from sklearn.ensemble import RandomForestRegressor, GradientBoostingRegressor\n",
    "from sklearn.metrics import classification_report, mean_squared_error, mean_absolute_error, r2_score, confusion_matrix\n"
   ]
  },
  {
   "cell_type": "code",
   "execution_count": 2,
   "id": "44ef5ce6-13d3-4bc7-a399-2fe34299ebd0",
   "metadata": {},
   "outputs": [
    {
     "data": {
      "text/html": [
       "<div>\n",
       "<style scoped>\n",
       "    .dataframe tbody tr th:only-of-type {\n",
       "        vertical-align: middle;\n",
       "    }\n",
       "\n",
       "    .dataframe tbody tr th {\n",
       "        vertical-align: top;\n",
       "    }\n",
       "\n",
       "    .dataframe thead th {\n",
       "        text-align: right;\n",
       "    }\n",
       "</style>\n",
       "<table border=\"1\" class=\"dataframe\">\n",
       "  <thead>\n",
       "    <tr style=\"text-align: right;\">\n",
       "      <th></th>\n",
       "      <th>work_year</th>\n",
       "      <th>experience_level</th>\n",
       "      <th>employment_type</th>\n",
       "      <th>job_title</th>\n",
       "      <th>salary</th>\n",
       "      <th>salary_currency</th>\n",
       "      <th>salary_in_usd</th>\n",
       "      <th>employee_residence</th>\n",
       "      <th>remote_ratio</th>\n",
       "      <th>company_location</th>\n",
       "      <th>company_size</th>\n",
       "    </tr>\n",
       "  </thead>\n",
       "  <tbody>\n",
       "    <tr>\n",
       "      <th>0</th>\n",
       "      <td>2023</td>\n",
       "      <td>SE</td>\n",
       "      <td>FT</td>\n",
       "      <td>Principal Data Scientist</td>\n",
       "      <td>80000</td>\n",
       "      <td>EUR</td>\n",
       "      <td>85847</td>\n",
       "      <td>ES</td>\n",
       "      <td>100</td>\n",
       "      <td>ES</td>\n",
       "      <td>L</td>\n",
       "    </tr>\n",
       "    <tr>\n",
       "      <th>1</th>\n",
       "      <td>2023</td>\n",
       "      <td>MI</td>\n",
       "      <td>CT</td>\n",
       "      <td>ML Engineer</td>\n",
       "      <td>30000</td>\n",
       "      <td>USD</td>\n",
       "      <td>30000</td>\n",
       "      <td>US</td>\n",
       "      <td>100</td>\n",
       "      <td>US</td>\n",
       "      <td>S</td>\n",
       "    </tr>\n",
       "    <tr>\n",
       "      <th>2</th>\n",
       "      <td>2023</td>\n",
       "      <td>MI</td>\n",
       "      <td>CT</td>\n",
       "      <td>ML Engineer</td>\n",
       "      <td>25500</td>\n",
       "      <td>USD</td>\n",
       "      <td>25500</td>\n",
       "      <td>US</td>\n",
       "      <td>100</td>\n",
       "      <td>US</td>\n",
       "      <td>S</td>\n",
       "    </tr>\n",
       "    <tr>\n",
       "      <th>3</th>\n",
       "      <td>2023</td>\n",
       "      <td>SE</td>\n",
       "      <td>FT</td>\n",
       "      <td>Data Scientist</td>\n",
       "      <td>175000</td>\n",
       "      <td>USD</td>\n",
       "      <td>175000</td>\n",
       "      <td>CA</td>\n",
       "      <td>100</td>\n",
       "      <td>CA</td>\n",
       "      <td>M</td>\n",
       "    </tr>\n",
       "    <tr>\n",
       "      <th>4</th>\n",
       "      <td>2023</td>\n",
       "      <td>SE</td>\n",
       "      <td>FT</td>\n",
       "      <td>Data Scientist</td>\n",
       "      <td>120000</td>\n",
       "      <td>USD</td>\n",
       "      <td>120000</td>\n",
       "      <td>CA</td>\n",
       "      <td>100</td>\n",
       "      <td>CA</td>\n",
       "      <td>M</td>\n",
       "    </tr>\n",
       "  </tbody>\n",
       "</table>\n",
       "</div>"
      ],
      "text/plain": [
       "   work_year experience_level employment_type                 job_title  \\\n",
       "0       2023               SE              FT  Principal Data Scientist   \n",
       "1       2023               MI              CT               ML Engineer   \n",
       "2       2023               MI              CT               ML Engineer   \n",
       "3       2023               SE              FT            Data Scientist   \n",
       "4       2023               SE              FT            Data Scientist   \n",
       "\n",
       "   salary salary_currency  salary_in_usd employee_residence  remote_ratio  \\\n",
       "0   80000             EUR          85847                 ES           100   \n",
       "1   30000             USD          30000                 US           100   \n",
       "2   25500             USD          25500                 US           100   \n",
       "3  175000             USD         175000                 CA           100   \n",
       "4  120000             USD         120000                 CA           100   \n",
       "\n",
       "  company_location company_size  \n",
       "0               ES            L  \n",
       "1               US            S  \n",
       "2               US            S  \n",
       "3               CA            M  \n",
       "4               CA            M  "
      ]
     },
     "execution_count": 2,
     "metadata": {},
     "output_type": "execute_result"
    }
   ],
   "source": [
    "salary_df = pd.read_csv(\"../Resources/ds_salaries.csv\")\n",
    "salary_df.head()"
   ]
  },
  {
   "cell_type": "code",
   "execution_count": 3,
   "id": "99588a52-7758-4e5a-891c-827ea7bd523a",
   "metadata": {},
   "outputs": [
    {
     "data": {
      "text/html": [
       "<div>\n",
       "<style scoped>\n",
       "    .dataframe tbody tr th:only-of-type {\n",
       "        vertical-align: middle;\n",
       "    }\n",
       "\n",
       "    .dataframe tbody tr th {\n",
       "        vertical-align: top;\n",
       "    }\n",
       "\n",
       "    .dataframe thead th {\n",
       "        text-align: right;\n",
       "    }\n",
       "</style>\n",
       "<table border=\"1\" class=\"dataframe\">\n",
       "  <thead>\n",
       "    <tr style=\"text-align: right;\">\n",
       "      <th></th>\n",
       "      <th>experience_level</th>\n",
       "      <th>job_title</th>\n",
       "      <th>salary_in_usd</th>\n",
       "      <th>remote_ratio</th>\n",
       "      <th>company_location</th>\n",
       "      <th>company_size</th>\n",
       "    </tr>\n",
       "  </thead>\n",
       "  <tbody>\n",
       "    <tr>\n",
       "      <th>0</th>\n",
       "      <td>SE</td>\n",
       "      <td>Principal Data Scientist</td>\n",
       "      <td>85847</td>\n",
       "      <td>100</td>\n",
       "      <td>ES</td>\n",
       "      <td>L</td>\n",
       "    </tr>\n",
       "    <tr>\n",
       "      <th>3</th>\n",
       "      <td>SE</td>\n",
       "      <td>Data Scientist</td>\n",
       "      <td>175000</td>\n",
       "      <td>100</td>\n",
       "      <td>CA</td>\n",
       "      <td>M</td>\n",
       "    </tr>\n",
       "    <tr>\n",
       "      <th>4</th>\n",
       "      <td>SE</td>\n",
       "      <td>Data Scientist</td>\n",
       "      <td>120000</td>\n",
       "      <td>100</td>\n",
       "      <td>CA</td>\n",
       "      <td>M</td>\n",
       "    </tr>\n",
       "    <tr>\n",
       "      <th>5</th>\n",
       "      <td>SE</td>\n",
       "      <td>Applied Scientist</td>\n",
       "      <td>222200</td>\n",
       "      <td>0</td>\n",
       "      <td>US</td>\n",
       "      <td>L</td>\n",
       "    </tr>\n",
       "    <tr>\n",
       "      <th>6</th>\n",
       "      <td>SE</td>\n",
       "      <td>Applied Scientist</td>\n",
       "      <td>136000</td>\n",
       "      <td>0</td>\n",
       "      <td>US</td>\n",
       "      <td>L</td>\n",
       "    </tr>\n",
       "    <tr>\n",
       "      <th>...</th>\n",
       "      <td>...</td>\n",
       "      <td>...</td>\n",
       "      <td>...</td>\n",
       "      <td>...</td>\n",
       "      <td>...</td>\n",
       "      <td>...</td>\n",
       "    </tr>\n",
       "    <tr>\n",
       "      <th>3749</th>\n",
       "      <td>SE</td>\n",
       "      <td>Data Specialist</td>\n",
       "      <td>165000</td>\n",
       "      <td>100</td>\n",
       "      <td>US</td>\n",
       "      <td>L</td>\n",
       "    </tr>\n",
       "    <tr>\n",
       "      <th>3750</th>\n",
       "      <td>SE</td>\n",
       "      <td>Data Scientist</td>\n",
       "      <td>412000</td>\n",
       "      <td>100</td>\n",
       "      <td>US</td>\n",
       "      <td>L</td>\n",
       "    </tr>\n",
       "    <tr>\n",
       "      <th>3751</th>\n",
       "      <td>MI</td>\n",
       "      <td>Principal Data Scientist</td>\n",
       "      <td>151000</td>\n",
       "      <td>100</td>\n",
       "      <td>US</td>\n",
       "      <td>L</td>\n",
       "    </tr>\n",
       "    <tr>\n",
       "      <th>3752</th>\n",
       "      <td>EN</td>\n",
       "      <td>Data Scientist</td>\n",
       "      <td>105000</td>\n",
       "      <td>100</td>\n",
       "      <td>US</td>\n",
       "      <td>S</td>\n",
       "    </tr>\n",
       "    <tr>\n",
       "      <th>3754</th>\n",
       "      <td>SE</td>\n",
       "      <td>Data Science Manager</td>\n",
       "      <td>94665</td>\n",
       "      <td>50</td>\n",
       "      <td>IN</td>\n",
       "      <td>L</td>\n",
       "    </tr>\n",
       "  </tbody>\n",
       "</table>\n",
       "<p>3718 rows × 6 columns</p>\n",
       "</div>"
      ],
      "text/plain": [
       "     experience_level                 job_title  salary_in_usd  remote_ratio  \\\n",
       "0                  SE  Principal Data Scientist          85847           100   \n",
       "3                  SE            Data Scientist         175000           100   \n",
       "4                  SE            Data Scientist         120000           100   \n",
       "5                  SE         Applied Scientist         222200             0   \n",
       "6                  SE         Applied Scientist         136000             0   \n",
       "...               ...                       ...            ...           ...   \n",
       "3749               SE           Data Specialist         165000           100   \n",
       "3750               SE            Data Scientist         412000           100   \n",
       "3751               MI  Principal Data Scientist         151000           100   \n",
       "3752               EN            Data Scientist         105000           100   \n",
       "3754               SE      Data Science Manager          94665            50   \n",
       "\n",
       "     company_location company_size  \n",
       "0                  ES            L  \n",
       "3                  CA            M  \n",
       "4                  CA            M  \n",
       "5                  US            L  \n",
       "6                  US            L  \n",
       "...               ...          ...  \n",
       "3749               US            L  \n",
       "3750               US            L  \n",
       "3751               US            L  \n",
       "3752               US            S  \n",
       "3754               IN            L  \n",
       "\n",
       "[3718 rows x 6 columns]"
      ]
     },
     "execution_count": 3,
     "metadata": {},
     "output_type": "execute_result"
    }
   ],
   "source": [
    "# Since there arent many strong data points on values other than 'FT', drop all other rows.\n",
    "# Drop distruptive rows\n",
    "values = ['FT']\n",
    "salary_df = salary_df[salary_df['employment_type'].isin(values)]\n",
    "salary_df = salary_df.drop(['salary', 'salary_currency', 'employee_residence', 'work_year', 'employment_type'], axis=1)\n",
    "salary_df"
   ]
  },
  {
   "cell_type": "code",
   "execution_count": 4,
   "id": "6b451ebe-801b-4a16-8e0a-a07b7f988aea",
   "metadata": {},
   "outputs": [
    {
     "data": {
      "text/html": [
       "<div>\n",
       "<style scoped>\n",
       "    .dataframe tbody tr th:only-of-type {\n",
       "        vertical-align: middle;\n",
       "    }\n",
       "\n",
       "    .dataframe tbody tr th {\n",
       "        vertical-align: top;\n",
       "    }\n",
       "\n",
       "    .dataframe thead th {\n",
       "        text-align: right;\n",
       "    }\n",
       "</style>\n",
       "<table border=\"1\" class=\"dataframe\">\n",
       "  <thead>\n",
       "    <tr style=\"text-align: right;\">\n",
       "      <th></th>\n",
       "      <th>experience_level</th>\n",
       "      <th>job_title</th>\n",
       "      <th>salary_in_usd</th>\n",
       "      <th>remote_ratio</th>\n",
       "      <th>company_location</th>\n",
       "      <th>company_size</th>\n",
       "    </tr>\n",
       "  </thead>\n",
       "  <tbody>\n",
       "    <tr>\n",
       "      <th>0</th>\n",
       "      <td>SE</td>\n",
       "      <td>Principal Data Scientist</td>\n",
       "      <td>85847</td>\n",
       "      <td>100</td>\n",
       "      <td>ES</td>\n",
       "      <td>L</td>\n",
       "    </tr>\n",
       "    <tr>\n",
       "      <th>3</th>\n",
       "      <td>SE</td>\n",
       "      <td>Data Scientist</td>\n",
       "      <td>175000</td>\n",
       "      <td>100</td>\n",
       "      <td>CA</td>\n",
       "      <td>M</td>\n",
       "    </tr>\n",
       "    <tr>\n",
       "      <th>4</th>\n",
       "      <td>SE</td>\n",
       "      <td>Data Scientist</td>\n",
       "      <td>120000</td>\n",
       "      <td>100</td>\n",
       "      <td>CA</td>\n",
       "      <td>M</td>\n",
       "    </tr>\n",
       "    <tr>\n",
       "      <th>5</th>\n",
       "      <td>SE</td>\n",
       "      <td>Applied Scientist</td>\n",
       "      <td>222200</td>\n",
       "      <td>0</td>\n",
       "      <td>US</td>\n",
       "      <td>L</td>\n",
       "    </tr>\n",
       "    <tr>\n",
       "      <th>6</th>\n",
       "      <td>SE</td>\n",
       "      <td>Applied Scientist</td>\n",
       "      <td>136000</td>\n",
       "      <td>0</td>\n",
       "      <td>US</td>\n",
       "      <td>L</td>\n",
       "    </tr>\n",
       "  </tbody>\n",
       "</table>\n",
       "</div>"
      ],
      "text/plain": [
       "  experience_level                 job_title  salary_in_usd  remote_ratio  \\\n",
       "0               SE  Principal Data Scientist          85847           100   \n",
       "3               SE            Data Scientist         175000           100   \n",
       "4               SE            Data Scientist         120000           100   \n",
       "5               SE         Applied Scientist         222200             0   \n",
       "6               SE         Applied Scientist         136000             0   \n",
       "\n",
       "  company_location company_size  \n",
       "0               ES            L  \n",
       "3               CA            M  \n",
       "4               CA            M  \n",
       "5               US            L  \n",
       "6               US            L  "
      ]
     },
     "execution_count": 4,
     "metadata": {},
     "output_type": "execute_result"
    }
   ],
   "source": [
    "salary_df = salary_df[salary_df[\"salary_in_usd\"].notnull()]\n",
    "salary_df.head()"
   ]
  },
  {
   "cell_type": "code",
   "execution_count": 5,
   "id": "c0a22b51-447d-4906-b5b0-4d5243148530",
   "metadata": {},
   "outputs": [
    {
     "name": "stdout",
     "output_type": "stream",
     "text": [
      "<class 'pandas.core.frame.DataFrame'>\n",
      "Int64Index: 3718 entries, 0 to 3754\n",
      "Data columns (total 6 columns):\n",
      " #   Column            Non-Null Count  Dtype \n",
      "---  ------            --------------  ----- \n",
      " 0   experience_level  3718 non-null   object\n",
      " 1   job_title         3718 non-null   object\n",
      " 2   salary_in_usd     3718 non-null   int64 \n",
      " 3   remote_ratio      3718 non-null   int64 \n",
      " 4   company_location  3718 non-null   object\n",
      " 5   company_size      3718 non-null   object\n",
      "dtypes: int64(2), object(4)\n",
      "memory usage: 203.3+ KB\n"
     ]
    }
   ],
   "source": [
    "salary_df.info()"
   ]
  },
  {
   "cell_type": "code",
   "execution_count": 6,
   "id": "12459bf5-623b-4338-bcbe-e0b3d55f24f4",
   "metadata": {},
   "outputs": [
    {
     "data": {
      "text/plain": [
       "experience_level    0\n",
       "job_title           0\n",
       "salary_in_usd       0\n",
       "remote_ratio        0\n",
       "company_location    0\n",
       "company_size        0\n",
       "dtype: int64"
      ]
     },
     "execution_count": 6,
     "metadata": {},
     "output_type": "execute_result"
    }
   ],
   "source": [
    "# Drop null values and inspect\n",
    "salary_df = salary_df.dropna()\n",
    "salary_df.isnull().sum()"
   ]
  },
  {
   "cell_type": "code",
   "execution_count": 7,
   "id": "32146a7b-d18c-4d77-ae40-056fb68b2612",
   "metadata": {},
   "outputs": [],
   "source": [
    "# Since there arent many strong data points on values other than 'FT', drop all other rows.\n",
    "# values = ['FT', 'PT']\n",
    "# values = ['FT']\n",
    "# salary_df = salary_df[salary_df['employment_type'].isin(values)]\n",
    "# salary_df.head()"
   ]
  },
  {
   "cell_type": "code",
   "execution_count": 8,
   "id": "fa2d2545-3339-4b13-8358-fe2251a21445",
   "metadata": {},
   "outputs": [],
   "source": [
    "# salary_df['employment_type'].value_counts()"
   ]
  },
  {
   "cell_type": "code",
   "execution_count": 9,
   "id": "f7dfa344-261a-4609-9fdf-93aaeca6aac9",
   "metadata": {},
   "outputs": [
    {
     "data": {
      "text/plain": [
       "US    3022\n",
       "GB     172\n",
       "CA      87\n",
       "ES      76\n",
       "IN      55\n",
       "      ... \n",
       "BA       1\n",
       "AM       1\n",
       "VN       1\n",
       "HK       1\n",
       "MT       1\n",
       "Name: company_location, Length: 68, dtype: int64"
      ]
     },
     "execution_count": 9,
     "metadata": {},
     "output_type": "execute_result"
    }
   ],
   "source": [
    "# Check for location minimal data and consolidate\n",
    "# Keep larger data\n",
    "salary_df['company_location'].value_counts()"
   ]
  },
  {
   "cell_type": "markdown",
   "id": "6d67f073",
   "metadata": {},
   "source": [
    "# Exploratory Data Analysis"
   ]
  },
  {
   "cell_type": "markdown",
   "id": "c1b3b229",
   "metadata": {},
   "source": [
    "### Salary Distribution by Experience Level"
   ]
  },
  {
   "cell_type": "code",
   "execution_count": 10,
   "id": "acf754dd",
   "metadata": {},
   "outputs": [
    {
     "data": {
      "image/png": "[encoded data removed]",
      "text/plain": [
       "<Figure size 1000x600 with 1 Axes>"
      ]
     },
     "metadata": {},
     "output_type": "display_data"
    }
   ],
   "source": [
    "plt.figure(figsize=(10, 6))\n",
    "sns.boxplot(data=salary_df, x=\"experience_level\", y=\"salary_in_usd\", palette=\"coolwarm\")\n",
    "plt.title(\"Salary Distribution by Experience Level\")\n",
    "plt.xlabel(\"Experience Level\")\n",
    "plt.ylabel(\"Salary in USD\")\n",
    "plt.show()"
   ]
  },
  {
   "cell_type": "markdown",
   "id": "6aadcba1",
   "metadata": {},
   "source": [
    "### Salary Distribution by Company Size\n"
   ]
  },
  {
   "cell_type": "code",
   "execution_count": 11,
   "id": "1b75bdb3",
   "metadata": {},
   "outputs": [
    {
     "data": {
      "image/png": "[encoded data removed]",
      "text/plain": [
       "<Figure size 1000x600 with 1 Axes>"
      ]
     },
     "metadata": {},
     "output_type": "display_data"
    }
   ],
   "source": [
    "plt.figure(figsize=(10, 6))\n",
    "sns.boxplot(data=salary_df, x=\"company_size\", y=\"salary_in_usd\", palette=\"coolwarm\")\n",
    "plt.title(\"Salary Distribution by Company Size\")\n",
    "plt.xlabel(\"Company Size (S=Small, M=Medium, L=Large)\")\n",
    "plt.ylabel(\"Salary in USD\")\n",
    "plt.show()\n"
   ]
  },
  {
   "cell_type": "markdown",
   "id": "63cb6669",
   "metadata": {},
   "source": [
    "### Salary Distribution by Remote Work Ratio"
   ]
  },
  {
   "cell_type": "code",
   "execution_count": 12,
   "id": "b11138a4",
   "metadata": {},
   "outputs": [
    {
     "data": {
      "image/png": "[encoded data removed]",
      "text/plain": [
       "<Figure size 1000x600 with 1 Axes>"
      ]
     },
     "metadata": {},
     "output_type": "display_data"
    }
   ],
   "source": [
    "plt.figure(figsize=(10, 6))\n",
    "sns.boxplot(data=salary_df, x=\"remote_ratio\", y=\"salary_in_usd\", palette=\"coolwarm\")\n",
    "plt.title(\"Salary Distribution by Remote Work Ratio\")\n",
    "plt.xlabel(\"Remote Work Ratio (0=On-site, 50=Hybrid, 100=Fully Remote)\")\n",
    "plt.ylabel(\"Salary in USD\")\n",
    "plt.show()"
   ]
  },
  {
   "cell_type": "markdown",
   "id": "3f383f5f",
   "metadata": {},
   "source": [
    "### Top 10 Highest Paying Job Titles"
   ]
  },
  {
   "cell_type": "code",
   "execution_count": 13,
   "id": "cdbfcea4",
   "metadata": {},
   "outputs": [
    {
     "data": {
      "image/png": "[encoded data removed]",
      "text/plain": [
       "<Figure size 1200x600 with 1 Axes>"
      ]
     },
     "metadata": {},
     "output_type": "display_data"
    }
   ],
   "source": [
    "top_jobs = salary_df.groupby(\"job_title\")[\"salary_in_usd\"].median().nlargest(10)\n",
    "plt.figure(figsize=(12, 6))\n",
    "sns.barplot(x=top_jobs.values, y=top_jobs.index, palette=\"coolwarm\")\n",
    "plt.title(\"Top 10 Highest Paying Job Titles\")\n",
    "plt.xlabel(\"Median Salary in USD\")\n",
    "plt.ylabel(\"Job Title\")\n",
    "plt.show()"
   ]
  },
  {
   "cell_type": "markdown",
   "id": "f4e524b3",
   "metadata": {},
   "source": [
    "### Salary Distribution by Company Location (Top 10 countries)"
   ]
  },
  {
   "cell_type": "code",
   "execution_count": 14,
   "id": "84497008",
   "metadata": {},
   "outputs": [
    {
     "data": {
      "image/png": "[encoded data removed]",
      "text/plain": [
       "<Figure size 1200x600 with 1 Axes>"
      ]
     },
     "metadata": {},
     "output_type": "display_data"
    }
   ],
   "source": [
    "top_countries = salary_df[\"company_location\"].value_counts().nlargest(10).index\n",
    "filtered_df = salary_df[salary_df[\"company_location\"].isin(top_countries)]\n",
    "\n",
    "plt.figure(figsize=(12, 6))\n",
    "sns.boxplot(data=filtered_df, x=\"company_location\", y=\"salary_in_usd\", palette=\"coolwarm\")\n",
    "plt.title(\"Salary Distribution by Top 10 Company Locations\")\n",
    "plt.xlabel(\"Company Location\")\n",
    "plt.ylabel(\"Salary in USD\")\n",
    "plt.show()"
   ]
  },
  {
   "cell_type": "code",
   "execution_count": 15,
   "id": "73f3e105-548d-41ef-a5f8-3ae6fd4a3285",
   "metadata": {},
   "outputs": [],
   "source": [
    "def clean_categories(categories, cutoff):\n",
    "    category_map = {}\n",
    "    for i in range(len(categories)):\n",
    "        if categories.values[i] >= cutoff:\n",
    "            category_map[categories.index[i]] = categories.index[i]\n",
    "        else:\n",
    "            category_map[categories.index[i]] = 'Other'\n",
    "    return category_map"
   ]
  },
  {
   "cell_type": "code",
   "execution_count": 16,
   "id": "0a330378-cb25-41ca-9e40-5731477cee20",
   "metadata": {},
   "outputs": [
    {
     "data": {
      "text/plain": [
       "US       3022\n",
       "Other     524\n",
       "GB        172\n",
       "Name: company_location, dtype: int64"
      ]
     },
     "execution_count": 16,
     "metadata": {},
     "output_type": "execute_result"
    }
   ],
   "source": [
    "company_location_map = clean_categories(salary_df['company_location'].value_counts(), 100)\n",
    "salary_df['company_location'] = salary_df['company_location'].map(company_location_map)\n",
    "salary_df['company_location'].value_counts()"
   ]
  },
  {
   "cell_type": "code",
   "execution_count": 17,
   "id": "abc85e6c-6277-4b67-9693-5d48bc0de156",
   "metadata": {},
   "outputs": [
    {
     "data": {
      "image/png": "[encoded data removed]",
      "text/plain": [
       "<Figure size 640x480 with 1 Axes>"
      ]
     },
     "metadata": {},
     "output_type": "display_data"
    }
   ],
   "source": [
    "salary_df.boxplot('salary_in_usd', 'company_location')\n",
    "plt.ylabel('salary_in_usd')\n",
    "plt.show()"
   ]
  },
  {
   "cell_type": "code",
   "execution_count": 18,
   "id": "5a2fe8cd-762b-4a7c-b710-2f86cb041e67",
   "metadata": {},
   "outputs": [
    {
     "data": {
      "image/png": "[encoded data removed]",
      "text/plain": [
       "<Figure size 640x480 with 1 Axes>"
      ]
     },
     "metadata": {},
     "output_type": "display_data"
    }
   ],
   "source": [
    "salary_df = salary_df[salary_df['salary_in_usd'] <= 175000]\n",
    "salary_df = salary_df[salary_df['salary_in_usd'] >= 25000]\n",
    "salary_df.boxplot('salary_in_usd', 'company_location')\n",
    "plt.ylabel('salary_in_usd')\n",
    "plt.show()"
   ]
  },
  {
   "cell_type": "code",
   "execution_count": 19,
   "id": "0505a67a-a391-44b6-a895-06bbfbbe0181",
   "metadata": {},
   "outputs": [
    {
     "data": {
      "text/plain": [
       "Data Engineer                775\n",
       "Data Scientist               581\n",
       "Data Analyst                 552\n",
       "Machine Learning Engineer    177\n",
       "Analytics Engineer            70\n",
       "                            ... \n",
       "Azure Data Engineer            1\n",
       "Marketing Data Engineer        1\n",
       "Compliance Data Analyst        1\n",
       "Manager Data Management        1\n",
       "Finance Data Analyst           1\n",
       "Name: job_title, Length: 82, dtype: int64"
      ]
     },
     "execution_count": 19,
     "metadata": {},
     "output_type": "execute_result"
    }
   ],
   "source": [
    "# Check and clean job titles. Drop small data points\n",
    "salary_df['job_title'].value_counts()"
   ]
  },
  {
   "cell_type": "code",
   "execution_count": 20,
   "id": "4c69d2f4-4ea8-4778-bc58-81a593cef7ca",
   "metadata": {},
   "outputs": [
    {
     "data": {
      "text/plain": [
       "Data Engineer                775\n",
       "Other                        614\n",
       "Data Scientist               581\n",
       "Data Analyst                 552\n",
       "Machine Learning Engineer    177\n",
       "Name: job_title, dtype: int64"
      ]
     },
     "execution_count": 20,
     "metadata": {},
     "output_type": "execute_result"
    }
   ],
   "source": [
    "job_title_map = clean_categories(salary_df['job_title'].value_counts(), 100)\n",
    "salary_df['job_title'] = salary_df['job_title'].map(job_title_map)\n",
    "salary_df['job_title'].value_counts()"
   ]
  },
  {
   "cell_type": "code",
   "execution_count": 21,
   "id": "ee9fa068-bf46-4715-8419-626a6e315f93",
   "metadata": {},
   "outputs": [
    {
     "data": {
      "text/html": [
       "<div>\n",
       "<style scoped>\n",
       "    .dataframe tbody tr th:only-of-type {\n",
       "        vertical-align: middle;\n",
       "    }\n",
       "\n",
       "    .dataframe tbody tr th {\n",
       "        vertical-align: top;\n",
       "    }\n",
       "\n",
       "    .dataframe thead th {\n",
       "        text-align: right;\n",
       "    }\n",
       "</style>\n",
       "<table border=\"1\" class=\"dataframe\">\n",
       "  <thead>\n",
       "    <tr style=\"text-align: right;\">\n",
       "      <th></th>\n",
       "      <th>experience_level</th>\n",
       "      <th>job_title</th>\n",
       "      <th>salary_in_usd</th>\n",
       "      <th>remote_ratio</th>\n",
       "      <th>company_location</th>\n",
       "      <th>company_size</th>\n",
       "    </tr>\n",
       "  </thead>\n",
       "  <tbody>\n",
       "    <tr>\n",
       "      <th>0</th>\n",
       "      <td>SE</td>\n",
       "      <td>Other</td>\n",
       "      <td>85847</td>\n",
       "      <td>100</td>\n",
       "      <td>Other</td>\n",
       "      <td>L</td>\n",
       "    </tr>\n",
       "    <tr>\n",
       "      <th>3</th>\n",
       "      <td>SE</td>\n",
       "      <td>Data Scientist</td>\n",
       "      <td>175000</td>\n",
       "      <td>100</td>\n",
       "      <td>Other</td>\n",
       "      <td>M</td>\n",
       "    </tr>\n",
       "    <tr>\n",
       "      <th>4</th>\n",
       "      <td>SE</td>\n",
       "      <td>Data Scientist</td>\n",
       "      <td>120000</td>\n",
       "      <td>100</td>\n",
       "      <td>Other</td>\n",
       "      <td>M</td>\n",
       "    </tr>\n",
       "    <tr>\n",
       "      <th>6</th>\n",
       "      <td>SE</td>\n",
       "      <td>Other</td>\n",
       "      <td>136000</td>\n",
       "      <td>0</td>\n",
       "      <td>US</td>\n",
       "      <td>L</td>\n",
       "    </tr>\n",
       "    <tr>\n",
       "      <th>8</th>\n",
       "      <td>SE</td>\n",
       "      <td>Data Scientist</td>\n",
       "      <td>141000</td>\n",
       "      <td>0</td>\n",
       "      <td>Other</td>\n",
       "      <td>M</td>\n",
       "    </tr>\n",
       "  </tbody>\n",
       "</table>\n",
       "</div>"
      ],
      "text/plain": [
       "  experience_level       job_title  salary_in_usd  remote_ratio  \\\n",
       "0               SE           Other          85847           100   \n",
       "3               SE  Data Scientist         175000           100   \n",
       "4               SE  Data Scientist         120000           100   \n",
       "6               SE           Other         136000             0   \n",
       "8               SE  Data Scientist         141000             0   \n",
       "\n",
       "  company_location company_size  \n",
       "0            Other            L  \n",
       "3            Other            M  \n",
       "4            Other            M  \n",
       "6               US            L  \n",
       "8            Other            M  "
      ]
     },
     "execution_count": 21,
     "metadata": {},
     "output_type": "execute_result"
    }
   ],
   "source": [
    "salary_df.head()"
   ]
  },
  {
   "cell_type": "code",
   "execution_count": 22,
   "id": "ef8f463d-9dcc-4e77-ba5e-2fe2c9ff5d9f",
   "metadata": {},
   "outputs": [
    {
     "data": {
      "text/plain": [
       "array([3, 0, 2, 1])"
      ]
     },
     "execution_count": 22,
     "metadata": {},
     "output_type": "execute_result"
    }
   ],
   "source": [
    "# Encode object data in dataframe\n",
    "experience_level = LabelEncoder()\n",
    "salary_df['experience_level'] = experience_level.fit_transform(salary_df['experience_level'])\n",
    "salary_df['experience_level'].unique()"
   ]
  },
  {
   "cell_type": "code",
   "execution_count": 23,
   "id": "0f875400-40cf-419a-b0bf-fe327f56a915",
   "metadata": {},
   "outputs": [],
   "source": [
    "# employment_type = LabelEncoder()\n",
    "# salary_df['employment_type'] = employment_type.fit_transform(salary_df['employment_type'])\n",
    "# salary_df['employment_type'].unique()"
   ]
  },
  {
   "cell_type": "code",
   "execution_count": 24,
   "id": "bb3843c3-2a5b-4cbf-8203-8c05d0bad456",
   "metadata": {},
   "outputs": [
    {
     "data": {
      "text/plain": [
       "array([4, 2, 0, 3, 1])"
      ]
     },
     "execution_count": 24,
     "metadata": {},
     "output_type": "execute_result"
    }
   ],
   "source": [
    "job_title = LabelEncoder()\n",
    "salary_df['job_title'] = job_title.fit_transform(salary_df['job_title'])\n",
    "salary_df['job_title'].unique()"
   ]
  },
  {
   "cell_type": "code",
   "execution_count": 25,
   "id": "e7b3eda4-c1e2-4aa8-8aa5-3acf098c71a8",
   "metadata": {},
   "outputs": [
    {
     "data": {
      "text/plain": [
       "array([1, 2, 0])"
      ]
     },
     "execution_count": 25,
     "metadata": {},
     "output_type": "execute_result"
    }
   ],
   "source": [
    "company_location = LabelEncoder()\n",
    "salary_df['company_location'] = company_location.fit_transform(salary_df['company_location'])\n",
    "salary_df['company_location'].unique()"
   ]
  },
  {
   "cell_type": "code",
   "execution_count": 26,
   "id": "3246fb45-14d0-4fe4-b6cf-d025eb3f8575",
   "metadata": {},
   "outputs": [
    {
     "data": {
      "text/plain": [
       "array([0, 1, 2])"
      ]
     },
     "execution_count": 26,
     "metadata": {},
     "output_type": "execute_result"
    }
   ],
   "source": [
    "company_size = LabelEncoder()\n",
    "salary_df['company_size'] = company_size.fit_transform(salary_df['company_size'])\n",
    "salary_df['company_size'].unique()"
   ]
  },
  {
   "cell_type": "code",
   "execution_count": 27,
   "id": "dc415afc-ee90-4039-8020-b6a11ea4a6b0",
   "metadata": {},
   "outputs": [],
   "source": [
    "# Train model\n",
    "X = salary_df.drop('salary_in_usd', axis=1)\n",
    "y = salary_df['salary_in_usd']"
   ]
  },
  {
   "cell_type": "code",
   "execution_count": 28,
   "id": "02dcf663-ff0e-4df7-8210-1e3369257763",
   "metadata": {},
   "outputs": [],
   "source": [
    "# Splitting the dataset into the Training set and Test set (for refactored code - skip for now)\n",
    "X_train, X_test, y_train, y_test = train_test_split(X, y, test_size = 0.2, random_state = 1)"
   ]
  },
  {
   "cell_type": "code",
   "execution_count": 29,
   "id": "2e992b45-7aea-4dfc-bd2e-2d962ae1f3b7",
   "metadata": {},
   "outputs": [
    {
     "name": "stdout",
     "output_type": "stream",
     "text": [
      "      experience_level  job_title  remote_ratio  company_location  \\\n",
      "2977                 2          4           100                 2   \n",
      "1956                 3          2           100                 2   \n",
      "1628                 2          3             0                 2   \n",
      "2302                 3          0             0                 2   \n",
      "157                  2          0             0                 0   \n",
      "...                ...        ...           ...               ...   \n",
      "1369                 3          4             0                 2   \n",
      "1293                 3          2           100                 2   \n",
      "1566                 3          0             0                 1   \n",
      "376                  3          4           100                 2   \n",
      "1517                 2          0             0                 2   \n",
      "\n",
      "      company_size  \n",
      "2977             1  \n",
      "1956             1  \n",
      "1628             1  \n",
      "2302             1  \n",
      "157              1  \n",
      "...            ...  \n",
      "1369             1  \n",
      "1293             1  \n",
      "1566             1  \n",
      "376              1  \n",
      "1517             1  \n",
      "\n",
      "[2159 rows x 5 columns]\n"
     ]
    }
   ],
   "source": [
    "print(X_train)"
   ]
  },
  {
   "cell_type": "code",
   "execution_count": 30,
   "id": "c4692636-28ce-45da-89ca-3323ed6e5659",
   "metadata": {},
   "outputs": [
    {
     "data": {
      "text/html": [
       "<style>#sk-container-id-1 {color: black;}#sk-container-id-1 pre{padding: 0;}#sk-container-id-1 div.sk-toggleable {background-color: white;}#sk-container-id-1 label.sk-toggleable__label {cursor: pointer;display: block;width: 100%;margin-bottom: 0;padding: 0.3em;box-sizing: border-box;text-align: center;}#sk-container-id-1 label.sk-toggleable__label-arrow:before {content: \"▸\";float: left;margin-right: 0.25em;color: #696969;}#sk-container-id-1 label.sk-toggleable__label-arrow:hover:before {color: black;}#sk-container-id-1 div.sk-estimator:hover label.sk-toggleable__label-arrow:before {color: black;}#sk-container-id-1 div.sk-toggleable__content {max-height: 0;max-width: 0;overflow: hidden;text-align: left;background-color: #f0f8ff;}#sk-container-id-1 div.sk-toggleable__content pre {margin: 0.2em;color: black;border-radius: 0.25em;background-color: #f0f8ff;}#sk-container-id-1 input.sk-toggleable__control:checked~div.sk-toggleable__content {max-height: 200px;max-width: 100%;overflow: auto;}#sk-container-id-1 input.sk-toggleable__control:checked~label.sk-toggleable__label-arrow:before {content: \"▾\";}#sk-container-id-1 div.sk-estimator input.sk-toggleable__control:checked~label.sk-toggleable__label {background-color: #d4ebff;}#sk-container-id-1 div.sk-label input.sk-toggleable__control:checked~label.sk-toggleable__label {background-color: #d4ebff;}#sk-container-id-1 input.sk-hidden--visually {border: 0;clip: rect(1px 1px 1px 1px);clip: rect(1px, 1px, 1px, 1px);height: 1px;margin: -1px;overflow: hidden;padding: 0;position: absolute;width: 1px;}#sk-container-id-1 div.sk-estimator {font-family: monospace;background-color: #f0f8ff;border: 1px dotted black;border-radius: 0.25em;box-sizing: border-box;margin-bottom: 0.5em;}#sk-container-id-1 div.sk-estimator:hover {background-color: #d4ebff;}#sk-container-id-1 div.sk-parallel-item::after {content: \"\";width: 100%;border-bottom: 1px solid gray;flex-grow: 1;}#sk-container-id-1 div.sk-label:hover label.sk-toggleable__label {background-color: #d4ebff;}#sk-container-id-1 div.sk-serial::before {content: \"\";position: absolute;border-left: 1px solid gray;box-sizing: border-box;top: 0;bottom: 0;left: 50%;z-index: 0;}#sk-container-id-1 div.sk-serial {display: flex;flex-direction: column;align-items: center;background-color: white;padding-right: 0.2em;padding-left: 0.2em;position: relative;}#sk-container-id-1 div.sk-item {position: relative;z-index: 1;}#sk-container-id-1 div.sk-parallel {display: flex;align-items: stretch;justify-content: center;background-color: white;position: relative;}#sk-container-id-1 div.sk-item::before, #sk-container-id-1 div.sk-parallel-item::before {content: \"\";position: absolute;border-left: 1px solid gray;box-sizing: border-box;top: 0;bottom: 0;left: 50%;z-index: -1;}#sk-container-id-1 div.sk-parallel-item {display: flex;flex-direction: column;z-index: 1;position: relative;background-color: white;}#sk-container-id-1 div.sk-parallel-item:first-child::after {align-self: flex-end;width: 50%;}#sk-container-id-1 div.sk-parallel-item:last-child::after {align-self: flex-start;width: 50%;}#sk-container-id-1 div.sk-parallel-item:only-child::after {width: 0;}#sk-container-id-1 div.sk-dashed-wrapped {border: 1px dashed gray;margin: 0 0.4em 0.5em 0.4em;box-sizing: border-box;padding-bottom: 0.4em;background-color: white;}#sk-container-id-1 div.sk-label label {font-family: monospace;font-weight: bold;display: inline-block;line-height: 1.2em;}#sk-container-id-1 div.sk-label-container {text-align: center;}#sk-container-id-1 div.sk-container {/* jupyter's `normalize.less` sets `[hidden] { display: none; }` but bootstrap.min.css set `[hidden] { display: none !important; }` so we also need the `!important` here to be able to override the default hidden behavior on the sphinx rendered scikit-learn.org. See: https://github.com/scikit-learn/scikit-learn/issues/21755 */display: inline-block !important;position: relative;}#sk-container-id-1 div.sk-text-repr-fallback {display: none;}</style><div id=\"sk-container-id-1\" class=\"sk-top-container\"><div class=\"sk-text-repr-fallback\"><pre>LinearRegression()</pre><b>In a Jupyter environment, please rerun this cell to show the HTML representation or trust the notebook. <br />On GitHub, the HTML representation is unable to render, please try loading this page with nbviewer.org.</b></div><div class=\"sk-container\" hidden><div class=\"sk-item\"><div class=\"sk-estimator sk-toggleable\"><input class=\"sk-toggleable__control sk-hidden--visually\" id=\"sk-estimator-id-1\" type=\"checkbox\" checked><label for=\"sk-estimator-id-1\" class=\"sk-toggleable__label sk-toggleable__label-arrow\">LinearRegression</label><div class=\"sk-toggleable__content\"><pre>LinearRegression()</pre></div></div></div></div></div>"
      ],
      "text/plain": [
       "LinearRegression()"
      ]
     },
     "execution_count": 30,
     "metadata": {},
     "output_type": "execute_result"
    }
   ],
   "source": [
    "regressor = LinearRegression()\n",
    "regressor.fit(X_train, y_train)"
   ]
  },
  {
   "cell_type": "code",
   "execution_count": 31,
   "id": "d9298baa-3da9-4f81-9190-dbf051b91439",
   "metadata": {},
   "outputs": [],
   "source": [
    "y_pred = regressor.predict(X_test)\n",
    "training_predictions = regressor.predict(X_train)\n",
    "testing_predictions = regressor.predict(X_test)"
   ]
  },
  {
   "cell_type": "code",
   "execution_count": 32,
   "id": "037e3757-48c6-4486-bbc1-6619a3b2a339",
   "metadata": {},
   "outputs": [],
   "source": [
    "error = np.sqrt(mean_squared_error(y_test , y_pred))\n",
    "# error = mean_absolute_error(y_test , y_pred)"
   ]
  },
  {
   "cell_type": "code",
   "execution_count": 33,
   "id": "18e5624d-c4ae-48e1-ac94-5ec01d28dfed",
   "metadata": {},
   "outputs": [
    {
     "data": {
      "text/plain": [
       "32096.202092404637"
      ]
     },
     "execution_count": 33,
     "metadata": {},
     "output_type": "execute_result"
    }
   ],
   "source": [
    "error"
   ]
  },
  {
   "cell_type": "code",
   "execution_count": 34,
   "id": "7229067c-4b15-4cec-81c3-caab5dc75c2d",
   "metadata": {},
   "outputs": [
    {
     "data": {
      "text/html": [
       "<div>\n",
       "<style scoped>\n",
       "    .dataframe tbody tr th:only-of-type {\n",
       "        vertical-align: middle;\n",
       "    }\n",
       "\n",
       "    .dataframe tbody tr th {\n",
       "        vertical-align: top;\n",
       "    }\n",
       "\n",
       "    .dataframe thead th {\n",
       "        text-align: right;\n",
       "    }\n",
       "</style>\n",
       "<table border=\"1\" class=\"dataframe\">\n",
       "  <thead>\n",
       "    <tr style=\"text-align: right;\">\n",
       "      <th></th>\n",
       "      <th>experience_level</th>\n",
       "      <th>job_title</th>\n",
       "      <th>remote_ratio</th>\n",
       "      <th>company_location</th>\n",
       "      <th>company_size</th>\n",
       "    </tr>\n",
       "  </thead>\n",
       "  <tbody>\n",
       "    <tr>\n",
       "      <th>0</th>\n",
       "      <td>3</td>\n",
       "      <td>4</td>\n",
       "      <td>100</td>\n",
       "      <td>1</td>\n",
       "      <td>0</td>\n",
       "    </tr>\n",
       "    <tr>\n",
       "      <th>3</th>\n",
       "      <td>3</td>\n",
       "      <td>2</td>\n",
       "      <td>100</td>\n",
       "      <td>1</td>\n",
       "      <td>1</td>\n",
       "    </tr>\n",
       "    <tr>\n",
       "      <th>4</th>\n",
       "      <td>3</td>\n",
       "      <td>2</td>\n",
       "      <td>100</td>\n",
       "      <td>1</td>\n",
       "      <td>1</td>\n",
       "    </tr>\n",
       "    <tr>\n",
       "      <th>6</th>\n",
       "      <td>3</td>\n",
       "      <td>4</td>\n",
       "      <td>0</td>\n",
       "      <td>2</td>\n",
       "      <td>0</td>\n",
       "    </tr>\n",
       "    <tr>\n",
       "      <th>8</th>\n",
       "      <td>3</td>\n",
       "      <td>2</td>\n",
       "      <td>0</td>\n",
       "      <td>1</td>\n",
       "      <td>1</td>\n",
       "    </tr>\n",
       "    <tr>\n",
       "      <th>...</th>\n",
       "      <td>...</td>\n",
       "      <td>...</td>\n",
       "      <td>...</td>\n",
       "      <td>...</td>\n",
       "      <td>...</td>\n",
       "    </tr>\n",
       "    <tr>\n",
       "      <th>3748</th>\n",
       "      <td>2</td>\n",
       "      <td>1</td>\n",
       "      <td>50</td>\n",
       "      <td>1</td>\n",
       "      <td>0</td>\n",
       "    </tr>\n",
       "    <tr>\n",
       "      <th>3749</th>\n",
       "      <td>3</td>\n",
       "      <td>4</td>\n",
       "      <td>100</td>\n",
       "      <td>2</td>\n",
       "      <td>0</td>\n",
       "    </tr>\n",
       "    <tr>\n",
       "      <th>3751</th>\n",
       "      <td>2</td>\n",
       "      <td>4</td>\n",
       "      <td>100</td>\n",
       "      <td>2</td>\n",
       "      <td>0</td>\n",
       "    </tr>\n",
       "    <tr>\n",
       "      <th>3752</th>\n",
       "      <td>0</td>\n",
       "      <td>2</td>\n",
       "      <td>100</td>\n",
       "      <td>2</td>\n",
       "      <td>2</td>\n",
       "    </tr>\n",
       "    <tr>\n",
       "      <th>3754</th>\n",
       "      <td>3</td>\n",
       "      <td>4</td>\n",
       "      <td>50</td>\n",
       "      <td>1</td>\n",
       "      <td>0</td>\n",
       "    </tr>\n",
       "  </tbody>\n",
       "</table>\n",
       "<p>2699 rows × 5 columns</p>\n",
       "</div>"
      ],
      "text/plain": [
       "      experience_level  job_title  remote_ratio  company_location  \\\n",
       "0                    3          4           100                 1   \n",
       "3                    3          2           100                 1   \n",
       "4                    3          2           100                 1   \n",
       "6                    3          4             0                 2   \n",
       "8                    3          2             0                 1   \n",
       "...                ...        ...           ...               ...   \n",
       "3748                 2          1            50                 1   \n",
       "3749                 3          4           100                 2   \n",
       "3751                 2          4           100                 2   \n",
       "3752                 0          2           100                 2   \n",
       "3754                 3          4            50                 1   \n",
       "\n",
       "      company_size  \n",
       "0                0  \n",
       "3                1  \n",
       "4                1  \n",
       "6                0  \n",
       "8                1  \n",
       "...            ...  \n",
       "3748             0  \n",
       "3749             0  \n",
       "3751             0  \n",
       "3752             2  \n",
       "3754             0  \n",
       "\n",
       "[2699 rows x 5 columns]"
      ]
     },
     "execution_count": 34,
     "metadata": {},
     "output_type": "execute_result"
    }
   ],
   "source": [
    "X"
   ]
  },
  {
   "cell_type": "code",
   "execution_count": 35,
   "id": "29718138-20a4-4f72-b943-2282602659ca",
   "metadata": {},
   "outputs": [
    {
     "data": {
      "text/plain": [
       "array([['SE', 'Data Scientist', '0', 'US', 'L']], dtype='<U14')"
      ]
     },
     "execution_count": 35,
     "metadata": {},
     "output_type": "execute_result"
    }
   ],
   "source": [
    "# create application input array for model data\n",
    "# work_year, experience_level, employment_type, job_title, remote_ratio, company_location, company_size\n",
    "X = np.array([['SE', 'Data Scientist', '0', 'US', 'L']])\n",
    "X"
   ]
  },
  {
   "cell_type": "code",
   "execution_count": 36,
   "id": "9c6ae365-d535-453a-8fd1-8f95dae471cf",
   "metadata": {},
   "outputs": [
    {
     "data": {
      "text/plain": [
       "array([[3, 2, 0, 2, 0]])"
      ]
     },
     "execution_count": 36,
     "metadata": {},
     "output_type": "execute_result"
    }
   ],
   "source": [
    "X[:, 0] = experience_level.transform(X[:, 0])\n",
    "X[:, 1] = job_title.transform(X[:, 1])\n",
    "X[:, 3] = company_location.transform(X[:, 3])\n",
    "X[:, 4] = company_size.transform(X[:, 4])\n",
    "X = X.astype('int64')\n",
    "X"
   ]
  },
  {
   "cell_type": "code",
   "execution_count": 37,
   "id": "bb0c894b-25e2-405e-b0bf-4a8b80ee6c97",
   "metadata": {},
   "outputs": [
    {
     "name": "stderr",
     "output_type": "stream",
     "text": [
      "/Library/Frameworks/Python.framework/Versions/3.11/lib/python3.11/site-packages/sklearn/base.py:464: UserWarning: X does not have valid feature names, but LinearRegression was fitted with feature names\n",
      "  warnings.warn(\n"
     ]
    },
    {
     "data": {
      "text/plain": [
       "array([130321.88734059])"
      ]
     },
     "execution_count": 37,
     "metadata": {},
     "output_type": "execute_result"
    }
   ],
   "source": [
    "y_pred = regressor.predict(X)\n",
    "y_pred"
   ]
  },
  {
   "cell_type": "code",
   "execution_count": 38,
   "id": "c8f97fef-37c8-4d51-9fbc-a108ae5486ca",
   "metadata": {},
   "outputs": [],
   "source": [
    "# Create model data map and save to local file for reuse. \n",
    "data = {\n",
    "    \"X_train\": X_train,\n",
    "    \"X_test\": X_test, \n",
    "    \"y_train\": y_train, \n",
    "    \"y_test\": y_test,\n",
    "    \"model\": regressor,\n",
    "    \"training_predictions\": training_predictions,\n",
    "    \"testing_predictions\": testing_predictions,\n",
    "    \"experience_level\": experience_level,\n",
    "    \"job_title\": job_title,\n",
    "    \"company_location\": company_location,\n",
    "    \"company_size\": company_size\n",
    "}"
   ]
  },
  {
   "cell_type": "code",
   "execution_count": 39,
   "id": "97d74af2-dd7e-409f-a72b-4a70b32319ec",
   "metadata": {},
   "outputs": [],
   "source": [
    "# Set model's file path\n",
    "# Export model to an HDF5 file\n",
    "with open('../Resources/salaries_pred_model.pkl', 'wb') as file:\n",
    "    pickle.dump(data, file)"
   ]
  },
  {
   "cell_type": "code",
   "execution_count": 40,
   "id": "f4b92be0-d3de-4b99-b88c-79e9a114b749",
   "metadata": {},
   "outputs": [],
   "source": [
    "with open('../Resources/salaries_pred_model.pkl', 'rb') as file:\n",
    "    model_data = pickle.load(file)\n",
    "\n",
    "X_train = model_data[\"X_train\"]\n",
    "X_test = model_data[\"X_test\"]\n",
    "y_train = model_data[\"y_train\"]\n",
    "y_test = model_data[\"y_test\"]\n",
    "regressor_loaded = model_data[\"model\"]\n",
    "training_predictions = model_data[\"training_predictions\"]\n",
    "testing_predictions = model_data[\"testing_predictions\"]\n",
    "experience_level = model_data[\"experience_level\"]\n",
    "job_title = model_data[\"job_title\"]\n",
    "company_location = model_data[\"company_location\"]\n",
    "company_size = model_data[\"company_size\"]\n"
   ]
  },
  {
   "cell_type": "code",
   "execution_count": 41,
   "id": "5bce1359-56a4-4211-985c-2bcfbf2ccf85",
   "metadata": {},
   "outputs": [
    {
     "name": "stderr",
     "output_type": "stream",
     "text": [
      "/Library/Frameworks/Python.framework/Versions/3.11/lib/python3.11/site-packages/sklearn/base.py:464: UserWarning: X does not have valid feature names, but LinearRegression was fitted with feature names\n",
      "  warnings.warn(\n"
     ]
    },
    {
     "data": {
      "text/plain": [
       "array([130321.88734059])"
      ]
     },
     "execution_count": 41,
     "metadata": {},
     "output_type": "execute_result"
    }
   ],
   "source": [
    "y_pred = regressor_loaded.predict(X)\n",
    "y_pred"
   ]
  },
  {
   "cell_type": "code",
   "execution_count": 42,
   "id": "d6e6e396-0635-4a13-9418-4b430a970146",
   "metadata": {},
   "outputs": [
    {
     "name": "stdout",
     "output_type": "stream",
     "text": [
      "21.63213405505775 %\n"
     ]
    }
   ],
   "source": [
    "print(regressor_loaded.score(X_test,y_test) * 100, '%')"
   ]
  },
  {
   "cell_type": "code",
   "execution_count": 43,
   "id": "d0ce1c58-65ca-464b-af55-3df72c07b6a8",
   "metadata": {},
   "outputs": [
    {
     "name": "stdout",
     "output_type": "stream",
     "text": [
      "Coefficients: \n",
      " [10231.77536843  3645.13862808   -38.57149287 30269.10231076\n",
      "   231.5208723 ]\n",
      "Mean squared error: 1030166188.76\n",
      "Coefficient of determination: 0.22\n"
     ]
    }
   ],
   "source": [
    "# The coefficients\n",
    "print(\"Coefficients: \\n\", regressor_loaded.coef_)\n",
    "# The mean squared error\n",
    "print(\"Mean squared error: %.2f\" % mean_squared_error(y_test, testing_predictions))\n",
    "# The coefficient of determination: 1 is perfect prediction\n",
    "print(\"Coefficient of determination: %.2f\" % r2_score(y_test, testing_predictions))"
   ]
  },
  {
   "cell_type": "code",
   "execution_count": 44,
   "id": "ee6a59bc-0ed4-4a7b-921f-02f5711566e1",
   "metadata": {},
   "outputs": [
    {
     "data": {
      "text/html": [
       "<div>\n",
       "<style scoped>\n",
       "    .dataframe tbody tr th:only-of-type {\n",
       "        vertical-align: middle;\n",
       "    }\n",
       "\n",
       "    .dataframe tbody tr th {\n",
       "        vertical-align: top;\n",
       "    }\n",
       "\n",
       "    .dataframe thead th {\n",
       "        text-align: right;\n",
       "    }\n",
       "</style>\n",
       "<table border=\"1\" class=\"dataframe\">\n",
       "  <thead>\n",
       "    <tr style=\"text-align: right;\">\n",
       "      <th></th>\n",
       "      <th>Model</th>\n",
       "      <th>MAE</th>\n",
       "      <th>MSE</th>\n",
       "      <th>RMSE</th>\n",
       "      <th>R2 Score</th>\n",
       "    </tr>\n",
       "  </thead>\n",
       "  <tbody>\n",
       "    <tr>\n",
       "      <th>1</th>\n",
       "      <td>Gradient Boosting</td>\n",
       "      <td>24138.804098</td>\n",
       "      <td>9.158425e+08</td>\n",
       "      <td>30262.890334</td>\n",
       "      <td>0.303291</td>\n",
       "    </tr>\n",
       "    <tr>\n",
       "      <th>0</th>\n",
       "      <td>Random Forest</td>\n",
       "      <td>24306.969734</td>\n",
       "      <td>9.513826e+08</td>\n",
       "      <td>30844.490356</td>\n",
       "      <td>0.276254</td>\n",
       "    </tr>\n",
       "    <tr>\n",
       "      <th>3</th>\n",
       "      <td>Decision Tree</td>\n",
       "      <td>24595.948126</td>\n",
       "      <td>9.820467e+08</td>\n",
       "      <td>31337.624722</td>\n",
       "      <td>0.252927</td>\n",
       "    </tr>\n",
       "    <tr>\n",
       "      <th>6</th>\n",
       "      <td>Gaussian Process</td>\n",
       "      <td>24912.725452</td>\n",
       "      <td>1.008013e+09</td>\n",
       "      <td>31749.217100</td>\n",
       "      <td>0.233174</td>\n",
       "    </tr>\n",
       "    <tr>\n",
       "      <th>2</th>\n",
       "      <td>KNN</td>\n",
       "      <td>25676.840741</td>\n",
       "      <td>1.078298e+09</td>\n",
       "      <td>32837.446057</td>\n",
       "      <td>0.179706</td>\n",
       "    </tr>\n",
       "    <tr>\n",
       "      <th>4</th>\n",
       "      <td>Linear Regression</td>\n",
       "      <td>26218.420627</td>\n",
       "      <td>1.030166e+09</td>\n",
       "      <td>32096.202092</td>\n",
       "      <td>0.216321</td>\n",
       "    </tr>\n",
       "    <tr>\n",
       "      <th>5</th>\n",
       "      <td>Support Vector</td>\n",
       "      <td>30540.478361</td>\n",
       "      <td>1.339549e+09</td>\n",
       "      <td>36599.852904</td>\n",
       "      <td>-0.019036</td>\n",
       "    </tr>\n",
       "  </tbody>\n",
       "</table>\n",
       "</div>"
      ],
      "text/plain": [
       "               Model           MAE           MSE          RMSE  R2 Score\n",
       "1  Gradient Boosting  24138.804098  9.158425e+08  30262.890334  0.303291\n",
       "0      Random Forest  24306.969734  9.513826e+08  30844.490356  0.276254\n",
       "3      Decision Tree  24595.948126  9.820467e+08  31337.624722  0.252927\n",
       "6   Gaussian Process  24912.725452  1.008013e+09  31749.217100  0.233174\n",
       "2                KNN  25676.840741  1.078298e+09  32837.446057  0.179706\n",
       "4  Linear Regression  26218.420627  1.030166e+09  32096.202092  0.216321\n",
       "5     Support Vector  30540.478361  1.339549e+09  36599.852904 -0.019036"
      ]
     },
     "execution_count": 44,
     "metadata": {},
     "output_type": "execute_result"
    }
   ],
   "source": [
    "# Define the regressors\n",
    "regressors = [\n",
    "\n",
    "    ('Random Forest', RandomForestRegressor()),\n",
    "    ('Gradient Boosting', GradientBoostingRegressor()),\n",
    "    ('KNN', KNeighborsRegressor()),\n",
    "    ('Decision Tree', DecisionTreeRegressor()),\n",
    "    (\"Linear Regression\", LinearRegression()),\n",
    "    (\"Support Vector\", SVR()),\n",
    "    (\"Gaussian Process\", GaussianProcessRegressor())\n",
    "    \n",
    "]\n",
    "\n",
    "# Create an empty DataFrame to store the metrics\n",
    "metrics_df = pd.DataFrame(columns=['Model', 'MAE', 'MSE', 'RMSE', 'R2 Score'])\n",
    "\n",
    "# Iterate over each regressor\n",
    "for reg_name, reg in regressors:\n",
    "    steps = [('MinMax',StandardScaler()),('Regressor', reg)]\n",
    "    pipeline = Pipeline(steps)\n",
    "    pipeline.fit(X_train, y_train)\n",
    "    y_pred = pipeline.predict(X_test)\n",
    "\n",
    "    # Calculate the evaluation metrics\n",
    "    mae = mean_absolute_error(y_test, y_pred)\n",
    "    mse = mean_squared_error(y_test, y_pred)\n",
    "    rmse = mean_squared_error(y_test, y_pred, squared=False)\n",
    "    r2 = metrics.r2_score(y_test, y_pred)\n",
    "\n",
    "    new_row = {\n",
    "        'Model': reg_name,\n",
    "        'MAE': mae,\n",
    "        'MSE': mse,\n",
    "        'RMSE': rmse,\n",
    "        'R2 Score': r2\n",
    "    }\n",
    "\n",
    "    metrics_df = pd.concat([metrics_df, pd.DataFrame([new_row])], ignore_index=True)\n",
    "\n",
    "# Sort the metrics DataFrame by RMSE and R2 Score in ascending order\n",
    "p_sorted_metrics_df = metrics_df.sort_values(by=['MAE'], ascending=[True])\n",
    "\n",
    "p_sorted_metrics_df"
   ]
  }
 ],
 "metadata": {
  "kernelspec": {
   "display_name": "Python 3",
   "language": "python",
   "name": "python3"
  },
  "language_info": {
   "codemirror_mode": {
    "name": "ipython",
    "version": 3
   },
   "file_extension": ".py",
   "mimetype": "text/x-python",
   "name": "python",
   "nbconvert_exporter": "python",
   "pygments_lexer": "ipython3",
   "version": "3.11.3"
  }
 },
 "nbformat": 4,
 "nbformat_minor": 5
}
